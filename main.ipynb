{
 "cells": [
  {
   "cell_type": "code",
   "id": "initial_id",
   "metadata": {
    "collapsed": true,
    "ExecuteTime": {
     "end_time": "2024-11-13T17:11:41.598611Z",
     "start_time": "2024-11-13T17:11:38.294522Z"
    }
   },
   "source": [
    "import numpy as np\n",
    "import pandas as pd\n",
    "from ekphrasis.classes.preprocessor import TextPreProcessor\n",
    "from ekphrasis.dicts.emoticons import emoticons\n",
    "from nltk.stem import WordNetLemmatizer\n",
    "import nltk"
   ],
   "outputs": [],
   "execution_count": 1
  },
  {
   "metadata": {
    "ExecuteTime": {
     "end_time": "2024-11-13T17:27:16.051621Z",
     "start_time": "2024-11-13T17:27:14.478404Z"
    }
   },
   "cell_type": "code",
   "source": [
    "df=pd.read_csv('HateSpeechDataset.csv')"
   ],
   "id": "d89e9501cdc9b471",
   "outputs": [],
   "execution_count": 9
  },
  {
   "metadata": {
    "ExecuteTime": {
     "end_time": "2024-11-13T17:11:43.883349Z",
     "start_time": "2024-11-13T17:11:43.874906Z"
    }
   },
   "cell_type": "code",
   "source": [
    "df"
   ],
   "id": "3a1f297a291765b4",
   "outputs": [
    {
     "data": {
      "text/plain": "                                                  Content Label  \\\n0       denial of normal the con be asked to comment o...     1   \n1       just by being able to tweet this insufferable ...     1   \n2       that is retarded you too cute to be single tha...     1   \n3       thought of a real badass mongol style declarat...     1   \n4                                     afro american basho     1   \n...                                                   ...   ...   \n440901  crash another movie from left field i have to ...     0   \n440902  i why do not you debate first before starting ...     0   \n440903  removal of i reverted the removal of the above...     0   \n440904  i have unblocked you eddie as i discussed on u...     0   \n440905  you have the ability to delete that revision a...     0   \n\n                                              Content_int  \n0       [146715, 0, 1, 2, 3, 4, 5, 6, 7, 8, 9, 10, 11,...  \n1       [146715, 14, 15, 16, 17, 7, 18, 19, 20, 21, 22...  \n2       [146715, 28, 29, 30, 26, 31, 32, 7, 5, 33, 28,...  \n3       [146715, 35, 1, 24, 36, 37, 38, 39, 40, 1, 41,...  \n4                            [146715, 46, 47, 48, 146714]  \n...                                                   ...  \n440901  [146715, 1780, 649, 1673, 347, 701, 1702, 80, ...  \n440902  [146715, 80, 186, 340, 76, 26, 6407, 566, 2608...  \n440903  [146715, 18731, 1, 80, 48182, 3, 18731, 1, 3, ...  \n440904  [146715, 80, 87, 20515, 26, 10684, 273, 80, 95...  \n440905  [146715, 26, 87, 3, 12795, 7, 3358, 28, 3938, ...  \n\n[440906 rows x 3 columns]",
      "text/html": "<div>\n<style scoped>\n    .dataframe tbody tr th:only-of-type {\n        vertical-align: middle;\n    }\n\n    .dataframe tbody tr th {\n        vertical-align: top;\n    }\n\n    .dataframe thead th {\n        text-align: right;\n    }\n</style>\n<table border=\"1\" class=\"dataframe\">\n  <thead>\n    <tr style=\"text-align: right;\">\n      <th></th>\n      <th>Content</th>\n      <th>Label</th>\n      <th>Content_int</th>\n    </tr>\n  </thead>\n  <tbody>\n    <tr>\n      <th>0</th>\n      <td>denial of normal the con be asked to comment o...</td>\n      <td>1</td>\n      <td>[146715, 0, 1, 2, 3, 4, 5, 6, 7, 8, 9, 10, 11,...</td>\n    </tr>\n    <tr>\n      <th>1</th>\n      <td>just by being able to tweet this insufferable ...</td>\n      <td>1</td>\n      <td>[146715, 14, 15, 16, 17, 7, 18, 19, 20, 21, 22...</td>\n    </tr>\n    <tr>\n      <th>2</th>\n      <td>that is retarded you too cute to be single tha...</td>\n      <td>1</td>\n      <td>[146715, 28, 29, 30, 26, 31, 32, 7, 5, 33, 28,...</td>\n    </tr>\n    <tr>\n      <th>3</th>\n      <td>thought of a real badass mongol style declarat...</td>\n      <td>1</td>\n      <td>[146715, 35, 1, 24, 36, 37, 38, 39, 40, 1, 41,...</td>\n    </tr>\n    <tr>\n      <th>4</th>\n      <td>afro american basho</td>\n      <td>1</td>\n      <td>[146715, 46, 47, 48, 146714]</td>\n    </tr>\n    <tr>\n      <th>...</th>\n      <td>...</td>\n      <td>...</td>\n      <td>...</td>\n    </tr>\n    <tr>\n      <th>440901</th>\n      <td>crash another movie from left field i have to ...</td>\n      <td>0</td>\n      <td>[146715, 1780, 649, 1673, 347, 701, 1702, 80, ...</td>\n    </tr>\n    <tr>\n      <th>440902</th>\n      <td>i why do not you debate first before starting ...</td>\n      <td>0</td>\n      <td>[146715, 80, 186, 340, 76, 26, 6407, 566, 2608...</td>\n    </tr>\n    <tr>\n      <th>440903</th>\n      <td>removal of i reverted the removal of the above...</td>\n      <td>0</td>\n      <td>[146715, 18731, 1, 80, 48182, 3, 18731, 1, 3, ...</td>\n    </tr>\n    <tr>\n      <th>440904</th>\n      <td>i have unblocked you eddie as i discussed on u...</td>\n      <td>0</td>\n      <td>[146715, 80, 87, 20515, 26, 10684, 273, 80, 95...</td>\n    </tr>\n    <tr>\n      <th>440905</th>\n      <td>you have the ability to delete that revision a...</td>\n      <td>0</td>\n      <td>[146715, 26, 87, 3, 12795, 7, 3358, 28, 3938, ...</td>\n    </tr>\n  </tbody>\n</table>\n<p>440906 rows × 3 columns</p>\n</div>"
     },
     "execution_count": 3,
     "metadata": {},
     "output_type": "execute_result"
    }
   ],
   "execution_count": 3
  },
  {
   "cell_type": "code",
   "outputs": [
    {
     "name": "stderr",
     "output_type": "stream",
     "text": [
      "[nltk_data] Downloading package wordnet to /Users/i0mar/nltk_data...\n",
      "[nltk_data]   Package wordnet is already up-to-date!\n"
     ]
    },
    {
     "data": {
      "text/plain": "True"
     },
     "execution_count": 4,
     "metadata": {},
     "output_type": "execute_result"
    }
   ],
   "source": [
    "nltk.download('wordnet')"
   ],
   "metadata": {
    "collapsed": false,
    "ExecuteTime": {
     "end_time": "2024-11-13T17:11:44.043616Z",
     "start_time": "2024-11-13T17:11:43.882074Z"
    }
   },
   "id": "f04012a8ac7221d8",
   "execution_count": 4
  },
  {
   "cell_type": "code",
   "outputs": [
    {
     "name": "stdout",
     "output_type": "stream",
     "text": [
      "Reading twitter - 1grams ...\n",
      "Reading twitter - 2grams ...\n",
      "Reading twitter - 1grams ...\n"
     ]
    },
    {
     "name": "stderr",
     "output_type": "stream",
     "text": [
      "/Library/Frameworks/Python.framework/Versions/3.12/lib/python3.12/site-packages/ekphrasis/classes/exmanager.py:14: FutureWarning: Possible nested set at position 42\n",
      "  regexes = {k.lower(): re.compile(self.expressions[k]) for k, v in\n"
     ]
    }
   ],
   "source": [
    "# Initialize Ekphrasis text preprocessor with common social media tokens\n",
    "text_processor = TextPreProcessor(\n",
    "    normalize=['url', 'email', 'percent', 'money', 'phone', 'user', 'time', 'date', 'number'],\n",
    "    annotate={\"hashtag\", \"allcaps\", \"elongated\", \"repeated\", \"emphasis\", \"censored\"},\n",
    "    fix_html=True,\n",
    "    segmenter=\"twitter\", \n",
    "    corrector=\"twitter\",\n",
    "    unpack_hashtags=True, \n",
    "    unpack_contractions=True,\n",
    "    spell_correct_elong=True,\n",
    "    tokenizer=None,\n",
    "    dicts=[emoticons]\n",
    ")"
   ],
   "metadata": {
    "collapsed": false,
    "ExecuteTime": {
     "end_time": "2024-11-13T17:11:47.366168Z",
     "start_time": "2024-11-13T17:11:44.044794Z"
    }
   },
   "id": "14b5486513d8d037",
   "execution_count": 5
  },
  {
   "cell_type": "code",
   "outputs": [],
   "source": [
    "# Initialize WordNetLemmatizer\n",
    "lemmatizer = WordNetLemmatizer()"
   ],
   "metadata": {
    "collapsed": false,
    "ExecuteTime": {
     "end_time": "2024-11-13T17:11:48.415372Z",
     "start_time": "2024-11-13T17:11:48.410829Z"
    }
   },
   "id": "1f495af7be1375a",
   "execution_count": 6
  },
  {
   "cell_type": "code",
   "outputs": [],
   "source": [
    "for index, row in df.iterrows():\n",
    "    # Step 1: Preprocess the text using Ekphrasis\n",
    "    processed_text = text_processor.pre_process_doc(row['Content'])\n",
    "    # Step 2: Lemmatize each tokenized word from Ekphrasis output\n",
    "    lemmatized_text = [lemmatizer.lemmatize(word) for word in processed_text]\n",
    "    \n",
    "    df.loc[index, 'Content'] = \"\".join(lemmatized_text)"
   ],
   "metadata": {
    "collapsed": false,
    "ExecuteTime": {
     "end_time": "2024-11-13T17:31:40.800536Z",
     "start_time": "2024-11-13T17:27:20.864337Z"
    }
   },
   "id": "308ca621d0c469e7",
   "execution_count": 10
  },
  {
   "cell_type": "code",
   "outputs": [],
   "source": [],
   "metadata": {
    "collapsed": false
   },
   "id": "f16b2fb2fbfcb3ba"
  },
  {
   "cell_type": "code",
   "outputs": [
    {
     "data": {
      "text/plain": "0         denial of normal the con be asked to comment o...\n1         just by being able to tweet this insufferable ...\n2         that is retarded you too cute to be single tha...\n3         thought of a real badass mongol style declarat...\n4                                       afro american basho\n                                ...                        \n440901    crash another movie from left field i have to ...\n440902    i why do not you debate first before starting ...\n440903    removal of i reverted the removal of the above...\n440904    i have unblocked you eddie as i discussed on u...\n440905    you have the ability to delete that revision a...\nName: Content, Length: 440906, dtype: object"
     },
     "execution_count": 11,
     "metadata": {},
     "output_type": "execute_result"
    }
   ],
   "source": [
    "df['Content']"
   ],
   "metadata": {
    "collapsed": false,
    "ExecuteTime": {
     "end_time": "2024-11-13T17:31:46.807046Z",
     "start_time": "2024-11-13T17:31:46.801131Z"
    }
   },
   "id": "f6ee02e95ccfeef4",
   "execution_count": 11
  },
  {
   "cell_type": "code",
   "outputs": [],
   "source": [
    "df.to_csv('Lemetized_HateSpeechDataset.csv')"
   ],
   "metadata": {
    "collapsed": false,
    "ExecuteTime": {
     "end_time": "2024-11-13T18:02:26.311849Z",
     "start_time": "2024-11-13T18:02:24.277814Z"
    }
   },
   "id": "a660d4426ed1b0ac",
   "execution_count": 12
  },
  {
   "cell_type": "code",
   "outputs": [],
   "source": [],
   "metadata": {
    "collapsed": false
   },
   "id": "ceac4029a945bf47"
  }
 ],
 "metadata": {
  "kernelspec": {
   "display_name": "Python 3",
   "language": "python",
   "name": "python3"
  },
  "language_info": {
   "codemirror_mode": {
    "name": "ipython",
    "version": 2
   },
   "file_extension": ".py",
   "mimetype": "text/x-python",
   "name": "python",
   "nbconvert_exporter": "python",
   "pygments_lexer": "ipython2",
   "version": "2.7.6"
  }
 },
 "nbformat": 4,
 "nbformat_minor": 5
}
