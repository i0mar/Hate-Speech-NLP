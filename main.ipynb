{
 "cells": [
  {
   "cell_type": "markdown",
   "source": [
    "# Importing Libraries"
   ],
   "metadata": {
    "collapsed": false
   },
   "id": "3aaddbc05ceae2bc"
  },
  {
   "cell_type": "code",
   "execution_count": 5,
   "id": "initial_id",
   "metadata": {
    "collapsed": true,
    "ExecuteTime": {
     "end_time": "2024-12-05T01:23:52.431943Z",
     "start_time": "2024-12-05T01:23:52.426268Z"
    }
   },
   "outputs": [],
   "source": [
    "import pandas as pd\n",
    "from nltk.stem import WordNetLemmatizer\n",
    "import re\n",
    "import nltk\n",
    "import pickle\n",
    "from nltk.corpus import stopwords\n",
    "import string\n",
    "from wordcloud import STOPWORDS\n",
    "from sklearn.metrics import accuracy_score, recall_score, f1_score, precision_score, roc_curve, auc\n",
    "import tensorflow as tf\n",
    "tf.compat.v1.enable_eager_execution()\n",
    "tf.data.experimental.enable_debug_mode()\n",
    "from tensorflow.keras.models import Sequential, Model\n",
    "from tensorflow.keras.layers import Input, Embedding, LSTM, Bidirectional, Dense, Dropout, Attention\n",
    "from sklearn.model_selection import train_test_split\n",
    "from tensorflow.keras.preprocessing.sequence import pad_sequences\n",
    "from tensorflow.keras.preprocessing.text import Tokenizer\n",
    "import matplotlib.pyplot as plt"
   ]
  },
  {
   "cell_type": "markdown",
   "source": [
    "# Preprocessing"
   ],
   "metadata": {
    "collapsed": false
   },
   "id": "8d5ce1148d7ab4c8"
  },
  {
   "cell_type": "markdown",
   "source": [
    "## Downloading Packages"
   ],
   "metadata": {
    "collapsed": false
   },
   "id": "656b31f1487d29d0"
  },
  {
   "cell_type": "code",
   "outputs": [
    {
     "name": "stderr",
     "output_type": "stream",
     "text": [
      "[nltk_data] Downloading package stopwords to /Users/i0mar/nltk_data...\n",
      "[nltk_data]   Package stopwords is already up-to-date!\n",
      "[nltk_data] Downloading package wordnet to /Users/i0mar/nltk_data...\n",
      "[nltk_data]   Package wordnet is already up-to-date!\n",
      "[nltk_data] Downloading package omw-1.4 to /Users/i0mar/nltk_data...\n",
      "[nltk_data]   Package omw-1.4 is already up-to-date!\n"
     ]
    },
    {
     "data": {
      "text/plain": "True"
     },
     "execution_count": 7,
     "metadata": {},
     "output_type": "execute_result"
    }
   ],
   "source": [
    "nltk.download('stopwords')\n",
    "nltk.download('wordnet')\n",
    "nltk.download('omw-1.4')"
   ],
   "metadata": {
    "collapsed": false,
    "ExecuteTime": {
     "end_time": "2024-12-04T18:07:55.327809Z",
     "start_time": "2024-12-04T18:07:55.088021Z"
    }
   },
   "id": "a4fc69995a3fdd4f",
   "execution_count": 7
  },
  {
   "cell_type": "markdown",
   "source": [
    "## Importing and Processing Dataset"
   ],
   "metadata": {
    "collapsed": false
   },
   "id": "25ae48737036142e"
  },
  {
   "cell_type": "markdown",
   "source": [
    "### First, download the [HateSpeechDatasetBalanced.csv](https://www.kaggle.com/datasets/waalbannyantudre/hate-speech-detection-curated-dataset/data?select=HateSpeechDatasetBalanced.csv) dataset"
   ],
   "metadata": {
    "collapsed": false
   },
   "id": "394ea6c37e30b39b"
  },
  {
   "cell_type": "code",
   "outputs": [],
   "source": [
    "df = pd.read_csv('HateSpeechDatasetBalanced.csv')"
   ],
   "metadata": {
    "collapsed": false,
    "ExecuteTime": {
     "end_time": "2024-12-05T01:23:56.785901Z",
     "start_time": "2024-12-05T01:23:55.596039Z"
    }
   },
   "id": "a970705e999ea647",
   "execution_count": 6
  },
  {
   "cell_type": "code",
   "outputs": [],
   "source": [
    "df.drop_duplicates(keep='first',inplace=True)"
   ],
   "metadata": {
    "collapsed": false,
    "ExecuteTime": {
     "end_time": "2024-12-05T01:23:58.445363Z",
     "start_time": "2024-12-05T01:23:57.973426Z"
    }
   },
   "id": "9fc71e60cfd8ce71",
   "execution_count": 7
  },
  {
   "cell_type": "code",
   "outputs": [],
   "source": [
    "df.reset_index(drop=True,inplace=True)"
   ],
   "metadata": {
    "collapsed": false,
    "ExecuteTime": {
     "end_time": "2024-12-05T01:23:59.256194Z",
     "start_time": "2024-12-05T01:23:59.247746Z"
    }
   },
   "id": "56dba0d6d192d2b",
   "execution_count": 8
  },
  {
   "cell_type": "code",
   "outputs": [
    {
     "data": {
      "text/plain": "Label\n1    359097\n0    341976\nName: count, dtype: int64"
     },
     "execution_count": 9,
     "metadata": {},
     "output_type": "execute_result"
    }
   ],
   "source": [
    "df['Label'].value_counts()"
   ],
   "metadata": {
    "collapsed": false,
    "ExecuteTime": {
     "end_time": "2024-12-05T01:24:00.177375Z",
     "start_time": "2024-12-05T01:24:00.172441Z"
    }
   },
   "id": "458f2e19b7a09da3",
   "execution_count": 9
  },
  {
   "cell_type": "markdown",
   "source": [
    "## Lematization and Tekonization"
   ],
   "metadata": {
    "collapsed": false
   },
   "id": "8e4480a3d56db290"
  },
  {
   "cell_type": "code",
   "outputs": [],
   "source": [
    "lemmatizer=WordNetLemmatizer()\n",
    "stopword = set(stopwords.words('english'))"
   ],
   "metadata": {
    "collapsed": false,
    "ExecuteTime": {
     "end_time": "2024-12-05T01:24:01.443921Z",
     "start_time": "2024-12-05T01:24:01.426813Z"
    }
   },
   "id": "1df20fcb124f31ab",
   "execution_count": 10
  },
  {
   "cell_type": "code",
   "outputs": [
    {
     "name": "stderr",
     "output_type": "stream",
     "text": [
      "<>:3: SyntaxWarning: invalid escape sequence '\\['\n",
      "<>:4: SyntaxWarning: invalid escape sequence '\\S'\n",
      "<>:8: SyntaxWarning: invalid escape sequence '\\w'\n",
      "<>:3: SyntaxWarning: invalid escape sequence '\\['\n",
      "<>:4: SyntaxWarning: invalid escape sequence '\\S'\n",
      "<>:8: SyntaxWarning: invalid escape sequence '\\w'\n",
      "/var/folders/_4/2fmywkdx6vqf2jyvmj0k9js00000gn/T/ipykernel_12914/2566308783.py:3: SyntaxWarning: invalid escape sequence '\\['\n",
      "  words = re.sub('\\[.*?\\]', '', words)\n",
      "/var/folders/_4/2fmywkdx6vqf2jyvmj0k9js00000gn/T/ipykernel_12914/2566308783.py:4: SyntaxWarning: invalid escape sequence '\\S'\n",
      "  words = re.sub('https?://\\S+|www\\.\\S+', '', words)\n",
      "/var/folders/_4/2fmywkdx6vqf2jyvmj0k9js00000gn/T/ipykernel_12914/2566308783.py:8: SyntaxWarning: invalid escape sequence '\\w'\n",
      "  words = re.sub('\\w*\\d\\w*', '', words)\n"
     ]
    }
   ],
   "source": [
    "def preprocessing(words):\n",
    "    words = str(words).lower()\n",
    "    words = re.sub('\\[.*?\\]', '', words)\n",
    "    words = re.sub('https?://\\S+|www\\.\\S+', '', words)\n",
    "    words = re.sub('<.*?>+', '', words)\n",
    "    words = re.sub('[%s]' % re.escape(string.punctuation), '', words)\n",
    "    words = re.sub('\\n', '', words)\n",
    "    words = re.sub('\\w*\\d\\w*', '', words)\n",
    "    words = [word for word in words.split(' ') if words not in STOPWORDS]\n",
    "    words=\" \".join(words)\n",
    "    \n",
    "    words = [lemmatizer.lemmatize(word,pos='v') for word in words.split(' ')]\n",
    "\n",
    "    words=\" \".join(words)\n",
    "    \n",
    "    return words"
   ],
   "metadata": {
    "collapsed": false,
    "ExecuteTime": {
     "end_time": "2024-12-05T01:24:01.875116Z",
     "start_time": "2024-12-05T01:24:01.865050Z"
    }
   },
   "id": "12e096ca36c6052e",
   "execution_count": 11
  },
  {
   "cell_type": "code",
   "outputs": [],
   "source": [
    "df['Content'] = df['Content'].apply(preprocessing)"
   ],
   "metadata": {
    "collapsed": false,
    "ExecuteTime": {
     "end_time": "2024-12-05T01:25:12.420968Z",
     "start_time": "2024-12-05T01:24:07.484201Z"
    }
   },
   "id": "5962ba9b01741134",
   "execution_count": 12
  },
  {
   "cell_type": "code",
   "outputs": [],
   "source": [
    "X=df['Content']\n",
    "y=df['Label']"
   ],
   "metadata": {
    "collapsed": false,
    "ExecuteTime": {
     "end_time": "2024-12-05T01:26:08.912456Z",
     "start_time": "2024-12-05T01:26:08.905076Z"
    }
   },
   "id": "238de2e56f5f24e6",
   "execution_count": 13
  },
  {
   "cell_type": "code",
   "outputs": [],
   "source": [
    "tokenizer = Tokenizer()\n",
    "tokenizer.fit_on_texts(X)\n",
    "sequences = tokenizer.texts_to_sequences(X)"
   ],
   "metadata": {
    "collapsed": false,
    "ExecuteTime": {
     "end_time": "2024-12-05T01:26:26.320988Z",
     "start_time": "2024-12-05T01:26:09.333558Z"
    }
   },
   "id": "7376f5d51dca3ea7",
   "execution_count": 14
  },
  {
   "cell_type": "code",
   "outputs": [],
   "source": [
    "vocab_size = len(tokenizer.word_index) + 1"
   ],
   "metadata": {
    "collapsed": false,
    "ExecuteTime": {
     "end_time": "2024-12-05T01:26:27.981771Z",
     "start_time": "2024-12-05T01:26:27.975807Z"
    }
   },
   "id": "1d7fe2e1860170af",
   "execution_count": 15
  },
  {
   "cell_type": "code",
   "outputs": [],
   "source": [
    "max_seq_length = max([len(seq) for seq in sequences])"
   ],
   "metadata": {
    "collapsed": false,
    "ExecuteTime": {
     "end_time": "2024-12-05T01:26:28.400160Z",
     "start_time": "2024-12-05T01:26:28.399274Z"
    }
   },
   "id": "91bae704dbd9fdc6",
   "execution_count": 16
  },
  {
   "cell_type": "code",
   "outputs": [],
   "source": [
    "X_pad = pad_sequences(sequences, maxlen=max_seq_length)"
   ],
   "metadata": {
    "collapsed": false,
    "ExecuteTime": {
     "end_time": "2024-12-05T01:26:30.219455Z",
     "start_time": "2024-12-05T01:26:28.799457Z"
    }
   },
   "id": "85c1ec712824b1bf",
   "execution_count": 17
  },
  {
   "cell_type": "code",
   "outputs": [],
   "source": [
    "X_train, X_test, y_train, y_test = train_test_split(X_pad, y, test_size=0.2, random_state=42)"
   ],
   "metadata": {
    "collapsed": false,
    "ExecuteTime": {
     "end_time": "2024-12-05T01:26:30.465824Z",
     "start_time": "2024-12-05T01:26:30.219886Z"
    }
   },
   "id": "5edde2c1c55b4510",
   "execution_count": 18
  },
  {
   "cell_type": "code",
   "outputs": [],
   "source": [
    "with open('tokenizer.pickle', 'wb') as handle:\n",
    "    pickle.dump(tokenizer, handle, protocol=pickle.HIGHEST_PROTOCOL)"
   ],
   "metadata": {
    "collapsed": false,
    "ExecuteTime": {
     "end_time": "2024-12-05T01:26:31.327246Z",
     "start_time": "2024-12-05T01:26:31.264766Z"
    }
   },
   "id": "62abb6596ba16549",
   "execution_count": 19
  },
  {
   "cell_type": "markdown",
   "source": [
    "# Building our NLP model \"Egybest\""
   ],
   "metadata": {
    "collapsed": false
   },
   "id": "a6d1c6a8d03f428b"
  },
  {
   "cell_type": "code",
   "outputs": [
    {
     "name": "stderr",
     "output_type": "stream",
     "text": [
      "/Users/i0mar/Library/Python/3.9/lib/python/site-packages/keras/src/layers/core/embedding.py:90: UserWarning: Argument `input_length` is deprecated. Just remove it.\n",
      "  warnings.warn(\n"
     ]
    }
   ],
   "source": [
    "# Step 1: Define the input layer\n",
    "input_layer = Input(shape=(max_seq_length,))\n",
    "\n",
    "# Step 2: Add the embedding layer\n",
    "embedding_layer = Embedding(\n",
    "    input_dim=vocab_size,\n",
    "    output_dim=100,\n",
    "    input_length=max_seq_length\n",
    ")(input_layer)\n",
    "\n",
    "# Step 3: Add the first Bidirectional LSTM layer with return_sequences=True\n",
    "lstm_layer_1 = Bidirectional(LSTM(128, return_sequences=True, dropout=0.2, recurrent_dropout=0.2))(embedding_layer)\n",
    "\n",
    "# Step 4: Add the attention layer\n",
    "attention_layer = Attention()([lstm_layer_1, lstm_layer_1])\n",
    "\n",
    "# Step 5: Add the second LSTM layer\n",
    "lstm_layer_2 = LSTM(64, return_sequences=False, dropout=0.2, recurrent_dropout=0.2)(attention_layer)\n",
    "\n",
    "# Step 6: Add the dense and output layers\n",
    "dense_layer = Dense(64, activation='relu')(lstm_layer_2)\n",
    "dropout_layer = Dropout(0.3)(dense_layer)\n",
    "output_layer = Dense(1, activation='sigmoid')(dropout_layer)  # Binary classification\n",
    "\n",
    "# Step 7: Build the model\n",
    "model = Model(inputs=input_layer, outputs=output_layer)"
   ],
   "metadata": {
    "collapsed": false,
    "ExecuteTime": {
     "end_time": "2024-12-04T18:36:12.699897Z",
     "start_time": "2024-12-04T18:36:12.646020Z"
    }
   },
   "id": "3d89a1c04c01c108",
   "execution_count": 66
  },
  {
   "cell_type": "code",
   "outputs": [],
   "source": [
    "# Compile the model\n",
    "model.compile(optimizer='adam', loss='binary_crossentropy', metrics=['accuracy'])"
   ],
   "metadata": {
    "collapsed": false,
    "ExecuteTime": {
     "end_time": "2024-12-04T18:36:14.125282Z",
     "start_time": "2024-12-04T18:36:14.116601Z"
    }
   },
   "id": "7b4174236ae4dabb",
   "execution_count": 67
  },
  {
   "cell_type": "code",
   "outputs": [
    {
     "name": "stdout",
     "output_type": "stream",
     "text": [
      "Epoch 1/5\n",
      "\u001B[1m439/439\u001B[0m \u001B[32m━━━━━━━━━━━━━━━━━━━━\u001B[0m\u001B[37m\u001B[0m \u001B[1m2188s\u001B[0m 5s/step - accuracy: 0.8346 - loss: 0.3810 - val_accuracy: 0.8485 - val_loss: 0.3455\n",
      "Epoch 2/5\n",
      "\u001B[1m439/439\u001B[0m \u001B[32m━━━━━━━━━━━━━━━━━━━━\u001B[0m\u001B[37m\u001B[0m \u001B[1m2186s\u001B[0m 5s/step - accuracy: 0.8650 - loss: 0.3150 - val_accuracy: 0.8561 - val_loss: 0.3266\n",
      "Epoch 3/5\n",
      "\u001B[1m439/439\u001B[0m \u001B[32m━━━━━━━━━━━━━━━━━━━━\u001B[0m\u001B[37m\u001B[0m \u001B[1m2185s\u001B[0m 5s/step - accuracy: 0.8832 - loss: 0.2726 - val_accuracy: 0.8631 - val_loss: 0.3170\n",
      "Epoch 4/5\n",
      "\u001B[1m439/439\u001B[0m \u001B[32m━━━━━━━━━━━━━━━━━━━━\u001B[0m\u001B[37m\u001B[0m \u001B[1m2185s\u001B[0m 5s/step - accuracy: 0.8969 - loss: 0.2426 - val_accuracy: 0.8653 - val_loss: 0.3216\n",
      "Epoch 5/5\n",
      "\u001B[1m439/439\u001B[0m \u001B[32m━━━━━━━━━━━━━━━━━━━━\u001B[0m\u001B[37m\u001B[0m \u001B[1m2188s\u001B[0m 5s/step - accuracy: 0.9071 - loss: 0.2186 - val_accuracy: 0.8689 - val_loss: 0.3216\n"
     ]
    },
    {
     "data": {
      "text/plain": "<keras.src.callbacks.history.History at 0x34d09e4c0>"
     },
     "execution_count": 69,
     "metadata": {},
     "output_type": "execute_result"
    }
   ],
   "source": [
    "model.fit(\n",
    "    X_train, y_train,\n",
    "    epochs=5,\n",
    "    batch_size=1024,\n",
    "    validation_split=0.2\n",
    ")"
   ],
   "metadata": {
    "collapsed": false,
    "ExecuteTime": {
     "end_time": "2024-12-04T21:50:48.919816Z",
     "start_time": "2024-12-04T18:48:37.069075Z"
    }
   },
   "id": "23510ba097918661",
   "execution_count": 69
  },
  {
   "cell_type": "code",
   "outputs": [],
   "source": [
    "model.save(\"egybest.keras\")"
   ],
   "metadata": {
    "collapsed": false,
    "ExecuteTime": {
     "end_time": "2024-12-04T22:22:06.953799Z",
     "start_time": "2024-12-04T22:22:06.854972Z"
    }
   },
   "id": "ccb5ac1977bc1d8",
   "execution_count": 72
  },
  {
   "cell_type": "markdown",
   "source": [
    "## Load the pretrained model instead of compiling and training a new one"
   ],
   "metadata": {
    "collapsed": false
   },
   "id": "f5182c0a4b77dcba"
  },
  {
   "cell_type": "code",
   "outputs": [
    {
     "name": "stderr",
     "output_type": "stream",
     "text": [
      "/Library/Frameworks/Python.framework/Versions/3.12/lib/python3.12/site-packages/keras/src/saving/saving_lib.py:713: UserWarning: Skipping variable loading for optimizer 'rmsprop', because it has 16 variables whereas the saved optimizer has 30 variables. \n",
      "  saveable.load_own_variables(weights_store.get(inner_path))\n"
     ]
    }
   ],
   "source": [
    "# from tensorflow.keras.models import load_model\n",
    "# model = load_model('egybest.keras')"
   ],
   "metadata": {
    "collapsed": false,
    "ExecuteTime": {
     "end_time": "2024-12-05T01:26:44.370582Z",
     "start_time": "2024-12-05T01:26:44.226952Z"
    }
   },
   "id": "738ca9ac65b264a1",
   "execution_count": 20
  },
  {
   "cell_type": "markdown",
   "source": [
    "## Model Evaluation and Results"
   ],
   "metadata": {
    "collapsed": false
   },
   "id": "2cb3374bee361ab9"
  },
  {
   "cell_type": "code",
   "outputs": [
    {
     "name": "stdout",
     "output_type": "stream",
     "text": [
      "\u001B[1m4382/4382\u001B[0m \u001B[32m━━━━━━━━━━━━━━━━━━━━\u001B[0m\u001B[37m\u001B[0m \u001B[1m691s\u001B[0m 158ms/step - accuracy: 0.8686 - loss: 0.3198\n",
      "Test Loss: 0.3186\n",
      "Test Accuracy: 0.8687\n"
     ]
    }
   ],
   "source": [
    "# Evaluate the model\n",
    "loss, accuracy = model.evaluate(X_test, y_test)\n",
    "print(f\"Test Loss: {loss:.4f}\")\n",
    "print(f\"Test Accuracy: {accuracy:.4f}\")"
   ],
   "metadata": {
    "collapsed": false,
    "ExecuteTime": {
     "end_time": "2024-12-04T22:15:47.556364Z",
     "start_time": "2024-12-04T22:04:16.290264Z"
    }
   },
   "id": "c0dba0fd1b728489",
   "execution_count": 70
  },
  {
   "cell_type": "code",
   "outputs": [
    {
     "name": "stdout",
     "output_type": "stream",
     "text": [
      "\u001B[1m4382/4382\u001B[0m \u001B[32m━━━━━━━━━━━━━━━━━━━━\u001B[0m\u001B[37m\u001B[0m \u001B[1m889s\u001B[0m 203ms/step\n"
     ]
    }
   ],
   "source": [
    "lstm_prediction = model.predict(X_test)"
   ],
   "metadata": {
    "collapsed": false,
    "ExecuteTime": {
     "end_time": "2024-12-05T00:19:03.770026Z",
     "start_time": "2024-12-05T00:04:14.330037Z"
    }
   },
   "id": "abd2667eaef80e20",
   "execution_count": 22
  },
  {
   "cell_type": "code",
   "outputs": [],
   "source": [
    "res = []\n",
    "for prediction in lstm_prediction:\n",
    "    if prediction[0] < 0.45:\n",
    "        res.append(0)\n",
    "    else:\n",
    "        res.append(1)"
   ],
   "metadata": {
    "collapsed": false,
    "ExecuteTime": {
     "end_time": "2024-12-05T00:29:33.395332Z",
     "start_time": "2024-12-05T00:29:33.315631Z"
    }
   },
   "id": "94ebfac94633cfed",
   "execution_count": 24
  },
  {
   "cell_type": "code",
   "outputs": [
    {
     "data": {
      "text/plain": "0.867054166815248"
     },
     "execution_count": 88,
     "metadata": {},
     "output_type": "execute_result"
    }
   ],
   "source": [
    "accuracy_score(y_test,res)"
   ],
   "metadata": {
    "collapsed": false,
    "ExecuteTime": {
     "end_time": "2024-12-04T22:51:33.210723Z",
     "start_time": "2024-12-04T22:51:33.184055Z"
    }
   },
   "id": "a3fcf7cb1f4f7000",
   "execution_count": 88
  },
  {
   "cell_type": "code",
   "outputs": [
    {
     "data": {
      "text/plain": "0.8338485800468103"
     },
     "execution_count": 89,
     "metadata": {},
     "output_type": "execute_result"
    }
   ],
   "source": [
    "precision_score(y_test,res)"
   ],
   "metadata": {
    "collapsed": false,
    "ExecuteTime": {
     "end_time": "2024-12-04T22:51:34.570311Z",
     "start_time": "2024-12-04T22:51:34.498511Z"
    }
   },
   "id": "2d32d79eaa8d0033",
   "execution_count": 89
  },
  {
   "cell_type": "code",
   "outputs": [
    {
     "data": {
      "text/plain": "0.9254597988553648"
     },
     "execution_count": 90,
     "metadata": {},
     "output_type": "execute_result"
    }
   ],
   "source": [
    "recall_score(y_test,res)"
   ],
   "metadata": {
    "collapsed": false,
    "ExecuteTime": {
     "end_time": "2024-12-04T22:51:35.547936Z",
     "start_time": "2024-12-04T22:51:35.473510Z"
    }
   },
   "id": "995e4f8cbb89991b",
   "execution_count": 90
  },
  {
   "cell_type": "code",
   "outputs": [
    {
     "data": {
      "text/plain": "0.8772689864041874"
     },
     "execution_count": 91,
     "metadata": {},
     "output_type": "execute_result"
    }
   ],
   "source": [
    "f1_score(y_test,res)"
   ],
   "metadata": {
    "collapsed": false,
    "ExecuteTime": {
     "end_time": "2024-12-04T22:51:37.466920Z",
     "start_time": "2024-12-04T22:51:37.395482Z"
    }
   },
   "id": "e0071ec610392705",
   "execution_count": 91
  },
  {
   "cell_type": "code",
   "outputs": [],
   "source": [
    "fpr, tpr, _ = roc_curve(y_test, res)\n",
    "auc = auc(fpr, tpr)"
   ],
   "metadata": {
    "collapsed": false,
    "ExecuteTime": {
     "end_time": "2024-12-05T00:30:48.590372Z",
     "start_time": "2024-12-05T00:30:48.570130Z"
    }
   },
   "id": "8e1537a104901666",
   "execution_count": 27
  },
  {
   "cell_type": "code",
   "outputs": [
    {
     "data": {
      "text/plain": "0.8654443673069677"
     },
     "execution_count": 31,
     "metadata": {},
     "output_type": "execute_result"
    }
   ],
   "source": [
    "auc"
   ],
   "metadata": {
    "collapsed": false,
    "ExecuteTime": {
     "end_time": "2024-12-05T00:32:26.480951Z",
     "start_time": "2024-12-05T00:32:26.472900Z"
    }
   },
   "id": "40079f24fe117e37",
   "execution_count": 31
  },
  {
   "cell_type": "code",
   "outputs": [
    {
     "data": {
      "text/plain": "<Figure size 640x480 with 1 Axes>",
      "image/png": "[encoded data removed]"
     },
     "metadata": {},
     "output_type": "display_data"
    }
   ],
   "source": [
    "# Plotting the curves\n",
    "plt.figure()\n",
    "plt.plot(fpr, tpr, color='darkorange', label='LR    ROC curve (area = %0.2f)' % auc)\n",
    "plt.plot([0, 1], [0, 1], color='navy', linestyle='--')\n",
    "plt.xlim([0.0, 1.0])\n",
    "plt.ylim([0.0, 1.05])\n",
    "plt.xlabel('False Positive Rate')\n",
    "plt.ylabel('True Positive Rate')\n",
    "plt.title('Receiver Operating Characteristic')\n",
    "plt.legend(loc=\"lower right\")\n",
    "plt.show()"
   ],
   "metadata": {
    "collapsed": false,
    "ExecuteTime": {
     "end_time": "2024-12-05T00:31:22.256237Z",
     "start_time": "2024-12-05T00:31:22.191151Z"
    }
   },
   "id": "634e8a0e387e3f57",
   "execution_count": 30
  },
  {
   "cell_type": "markdown",
   "source": [
    "## Testing the Model"
   ],
   "metadata": {
    "collapsed": false
   },
   "id": "f0c0ba4aacbe70cd"
  },
  {
   "cell_type": "code",
   "outputs": [
    {
     "name": "stdout",
     "output_type": "stream",
     "text": [
      "\u001B[1m1/1\u001B[0m \u001B[32m━━━━━━━━━━━━━━━━━━━━\u001B[0m\u001B[37m\u001B[0m \u001B[1m0s\u001B[0m 219ms/step\n",
      "NON-HATE\n"
     ]
    }
   ],
   "source": [
    "test = pd.DataFrame({'Content': \"you are an amazing person\"}, index=[0])\n",
    "test_pad = pad_sequences(tokenizer.texts_to_sequences(test.apply(preprocessing)), maxlen=max_seq_length)\n",
    "\n",
    "score = model.predict(test_pad)[0][0]\n",
    "if score < 0.45:\n",
    "    print(\"NON-HATE\")\n",
    "else:\n",
    "    print(\"HATE!\")"
   ],
   "metadata": {
    "collapsed": false,
    "ExecuteTime": {
     "end_time": "2024-12-05T01:21:39.376176Z",
     "start_time": "2024-12-05T01:21:39.120865Z"
    }
   },
   "id": "52be7d4b53372cb9",
   "execution_count": 17
  },
  {
   "cell_type": "markdown",
   "source": [
    "# GUI"
   ],
   "metadata": {
    "collapsed": false
   },
   "id": "d6eb84fed2d351ce"
  },
  {
   "cell_type": "markdown",
   "source": [
    "## Run the following cell to launch a simple GUI to try the egybest model"
   ],
   "metadata": {
    "collapsed": false
   },
   "id": "7641aa2f44a65a60"
  },
  {
   "cell_type": "code",
   "outputs": [],
   "source": [
    "import tkinter as tk\n",
    "from tkinter import messagebox\n",
    "\n",
    "# Create the main window\n",
    "root = tk.Tk()\n",
    "root.title(\"Text Analysis\")\n",
    "\n",
    "# Create a label and text entry field\n",
    "label = tk.Label(root, text=\"Enter text:\")\n",
    "label.pack(pady=10)\n",
    "\n",
    "text_entry = tk.Entry(root, width=50)\n",
    "text_entry.pack(pady=5)\n",
    "\n",
    "def analyze_text():\n",
    "    text = text_entry.get()\n",
    "    test = pd.DataFrame({'Content': text}, index=[0])\n",
    "    test_preprocessed = test.apply(preprocessing)\n",
    "    test_sequences = tokenizer.texts_to_sequences(test_preprocessed)\n",
    "    test_pad = pad_sequences(test_sequences, maxlen=max_seq_length)\n",
    "    \n",
    "    score = model.predict(test_pad)[0][0]\n",
    "    if score < 0.45:\n",
    "        result = \"NON-HATE\"\n",
    "    else:\n",
    "        result = \"HATE!\"\n",
    "\n",
    "    # Display the result in a message box\n",
    "    messagebox.showinfo(\"Result\", result)\n",
    "    print (text)\n",
    "    print (result)\n",
    "\n",
    "# Create an Analyze button\n",
    "analyze_button = tk.Button(root, text=\"Analyze\", command=analyze_text)\n",
    "analyze_button.pack(pady=20)\n",
    "\n",
    "# Run the GUI event loop\n",
    "root.mainloop()"
   ],
   "metadata": {
    "collapsed": false,
    "ExecuteTime": {
     "end_time": "2024-12-10T19:38:49.268705Z",
     "start_time": "2024-12-10T19:38:47.576994Z"
    }
   },
   "id": "e326a757c4639c72",
   "execution_count": 2
  }
 ],
 "metadata": {
  "kernelspec": {
   "display_name": "Python 3",
   "language": "python",
   "name": "python3"
  },
  "language_info": {
   "codemirror_mode": {
    "name": "ipython",
    "version": 2
   },
   "file_extension": ".py",
   "mimetype": "text/x-python",
   "name": "python",
   "nbconvert_exporter": "python",
   "pygments_lexer": "ipython2",
   "version": "2.7.6"
  }
 },
 "nbformat": 4,
 "nbformat_minor": 5
}
